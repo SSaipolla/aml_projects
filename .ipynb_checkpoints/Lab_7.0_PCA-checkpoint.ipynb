{
 "cells": [
  {
   "cell_type": "markdown",
   "metadata": {},
   "source": [
    "<div style=\"font-size: 14pt;\">Prof. Krzysztof Rybinski</div><br/><br/>\n",
    "<div style=\"font-size: 22pt;\"><b>Applied Machine Learning course</b></div><br/><br/>\n",
    "<div style=\"font-size: 18pt;\">LAB 7</div><br/>\n",
    "<div style=\"font-size: 18pt;\">- Principal Component Analysis (PCA)</div><br/>\n"
   ]
  },
  {
   "cell_type": "code",
   "execution_count": null,
   "metadata": {},
   "outputs": [],
   "source": [
    "#load necessary packages\n",
    "from sklearn.decomposition import PCA\n",
    "from sklearn.datasets import load_breast_cancer\n",
    "from sklearn.preprocessing import StandardScaler\n",
    "import numpy as np\n",
    "import pandas as pd\n",
    "import matplotlib.pyplot as plt\n",
    "from sklearn.linear_model import LogisticRegression\n",
    "from sklearn.model_selection import train_test_split\n",
    "import statsmodels.graphics.api as smg\n",
    "from bioinfokit.visuz import cluster"
   ]
  },
  {
   "cell_type": "code",
   "execution_count": null,
   "metadata": {},
   "outputs": [],
   "source": [
    "#check dataset documentation https://scikit-learn.org/stable/modules/generated/sklearn.datasets.load_breast_cancer.html\n",
    "\n",
    "'''\n",
    "The tagged data set is from the \"Breast Cancer Wisconsin (Diagnostic) Database\" freely available in python's sklearn library, \n",
    "for details see:\n",
    "https://archive.ics.uci.edu/ml/datasets/Breast+Cancer+Wisconsin+%28Diagnostic%29\n",
    "\n",
    "    Number of Samples: 569\n",
    "    Number of Features: 30 numeric, predictive attributes\n",
    "    Number of Classes: 2\n",
    "\n",
    "Features are computed from a digitized image of a fine needle aspirate (FNA) of a breast mass. \n",
    "They describe characteristics of the cell nuclei present in the image. \n",
    "Ten real-valued features are computed for each cell nucleus. \n",
    "The mean, standard error and 'worst' or largest (mean of the three largest values) of these features were computed \n",
    "for each image, resulting in 30 features. For instance, the radius measurements are for the 'mean radius', \n",
    "'standard error of the radius', and 'worst radius'. All feature values are recoded with four significant digits.\n",
    "\n",
    "The two target classes correspond to negative outcomes (0 - Benign) and positive outcomes (1 - Malignant).\n",
    "'''"
   ]
  },
  {
   "cell_type": "code",
   "execution_count": null,
   "metadata": {},
   "outputs": [],
   "source": [
    "breast = load_breast_cancer()\n",
    "breast_data = breast.data\n",
    "breast_data.shape"
   ]
  },
  {
   "cell_type": "code",
   "execution_count": null,
   "metadata": {},
   "outputs": [],
   "source": [
    "breast_labels = breast.target\n",
    "breast_labels.shape"
   ]
  },
  {
   "cell_type": "code",
   "execution_count": null,
   "metadata": {},
   "outputs": [],
   "source": [
    "breast_labels"
   ]
  },
  {
   "cell_type": "code",
   "execution_count": null,
   "metadata": {},
   "outputs": [],
   "source": [
    "features = breast.feature_names\n",
    "features"
   ]
  },
  {
   "cell_type": "code",
   "execution_count": null,
   "metadata": {},
   "outputs": [],
   "source": [
    "#convert to Pandas\n",
    "breast_dataset = pd.DataFrame(breast_data)\n",
    "breast_dataset.columns = features\n",
    "pd.set_option('display.max_columns', None)\n",
    "breast_dataset.head()"
   ]
  },
  {
   "cell_type": "code",
   "execution_count": null,
   "metadata": {},
   "outputs": [],
   "source": [
    "x = StandardScaler().fit_transform(breast_dataset) # normalizing the features\n",
    "x.shape"
   ]
  },
  {
   "cell_type": "code",
   "execution_count": null,
   "metadata": {},
   "outputs": [],
   "source": [
    "np.mean(x),np.std(x)"
   ]
  },
  {
   "cell_type": "code",
   "execution_count": null,
   "metadata": {},
   "outputs": [],
   "source": [
    "#PCA\n",
    "pca_breast = PCA(n_components=2)\n",
    "principal_components_breast = pca_breast.fit_transform(x)\n",
    "principal_breast_df = pd.DataFrame(data = principal_components_breast, \\\n",
    "                                   columns = ['principal_component_1', 'principal_component_2'])"
   ]
  },
  {
   "cell_type": "code",
   "execution_count": null,
   "metadata": {},
   "outputs": [],
   "source": [
    "principal_breast_df.tail()"
   ]
  },
  {
   "cell_type": "code",
   "execution_count": null,
   "metadata": {},
   "outputs": [],
   "source": [
    "pca_breast.explained_variance_ratio_"
   ]
  },
  {
   "cell_type": "code",
   "execution_count": null,
   "metadata": {},
   "outputs": [],
   "source": [
    "#visualize principal components\n",
    "plt.figure()\n",
    "plt.figure(figsize=(10,10))\n",
    "plt.xticks(fontsize=12)\n",
    "plt.yticks(fontsize=14)\n",
    "plt.xlabel('Principal Component - 1',fontsize=20)\n",
    "plt.ylabel('Principal Component - 2',fontsize=20)\n",
    "plt.title(\"Principal Component Analysis of Breast Cancer Dataset\",fontsize=20)\n",
    "targets = [0,1]\n",
    "colors = ['r', 'g']\n",
    "for target, color in zip(targets,colors):\n",
    "    indicesToKeep = breast_labels == target\n",
    "    plt.scatter(principal_breast_df.loc[indicesToKeep, 'principal_component_1'],\n",
    "                principal_breast_df.loc[indicesToKeep, 'principal_component_2'], c = color, s = 50)\n",
    "plt.legend(targets,prop={'size': 15})"
   ]
  },
  {
   "cell_type": "code",
   "execution_count": null,
   "metadata": {},
   "outputs": [],
   "source": [
    "#choose number of principal components using scree plot (elbow plot)\n",
    "n_components = 5\n",
    "pca_breast = PCA(n_components=n_components)\n",
    "principalComponents_breast = pca_breast.fit_transform(x)\n",
    "\n",
    "PC_values = np.arange(pca_breast.n_components_) + 1\n",
    "plt.plot(PC_values, pca_breast.explained_variance_ratio_, 'o-', linewidth=2, color='blue')\n",
    "plt.title('Scree Plot')\n",
    "plt.xlabel('Principal Component')\n",
    "plt.ylabel('Variance Explained')\n",
    "plt.show()"
   ]
  },
  {
   "cell_type": "code",
   "execution_count": null,
   "metadata": {},
   "outputs": [],
   "source": [
    "#cummulative variance explained\n",
    "cum_pca_ev = np.cumsum(pca_breast.explained_variance_ratio_)\n",
    "plt.plot(PC_values, cum_pca_ev, 'o-', linewidth=2, color='blue')\n",
    "plt.title('Cummulative Scree Plot')\n",
    "plt.xlabel('Principal Component')\n",
    "plt.ylabel('Cummulative Variance Explained')\n",
    "plt.show()"
   ]
  },
  {
   "cell_type": "code",
   "execution_count": null,
   "metadata": {},
   "outputs": [],
   "source": [
    "#biplot, showing relatoinship between PCs and initial features\n",
    "# component loadings or weights (correlation coefficient between original variables and the component) \n",
    "# component loadings represents the elements of the eigenvector\n",
    "# the squared loadings within the PCs always sums to 1\n",
    "n_components = 30\n",
    "pca_breast = PCA()\n",
    "principalComponents_breast = pca_breast.fit_transform(x)\n",
    "loadings = pca_breast.components_\n",
    "loadings.shape"
   ]
  },
  {
   "cell_type": "code",
   "execution_count": null,
   "metadata": {},
   "outputs": [],
   "source": [
    "pc_list = [\"PC\"+str(i) for i in list(range(1, n_components+1))]\n",
    "loadings_df = pd.DataFrame.from_dict(dict(zip(pc_list, loadings)))\n",
    "loadings_df = loadings_df.set_index(features)\n",
    "loadings_df"
   ]
  },
  {
   "cell_type": "code",
   "execution_count": null,
   "metadata": {},
   "outputs": [],
   "source": [
    "labels = features\n",
    "labels"
   ]
  },
  {
   "cell_type": "code",
   "execution_count": null,
   "metadata": {},
   "outputs": [],
   "source": [
    "# get 2D biplot, it is saved in the current folder (Python)\n",
    "#check documentation https://reneshbedre.github.io/blog/howtoinstall.html\n",
    "cluster.biplot(cscore=principalComponents_breast, loadings=loadings, labels=labels, \\\n",
    "               var1=round(pca_breast.explained_variance_ratio_[0]*100, 2), \\\n",
    "               var2=round(pca_breast.explained_variance_ratio_[1]*100, 2), axlabelfontsize = 10)"
   ]
  },
  {
   "cell_type": "markdown",
   "metadata": {},
   "source": [
    "# Compare model performance with and without PCA processing"
   ]
  },
  {
   "cell_type": "code",
   "execution_count": null,
   "metadata": {},
   "outputs": [],
   "source": [
    "breast_dataset.head()"
   ]
  },
  {
   "cell_type": "code",
   "execution_count": null,
   "metadata": {},
   "outputs": [],
   "source": [
    "breast_labels"
   ]
  },
  {
   "cell_type": "code",
   "execution_count": null,
   "metadata": {},
   "outputs": [],
   "source": [
    "corr = breast_dataset.corr()\n",
    "smg.plot_corr(corr, xnames=corr.columns.values, normcolor=True)\n",
    "plt.show()\n",
    "#you should drop many correlated features and loose information"
   ]
  },
  {
   "cell_type": "code",
   "execution_count": null,
   "metadata": {},
   "outputs": [],
   "source": [
    "#train-test sets\n",
    "x_train, x_test, y_train, y_test = train_test_split(\n",
    "    breast_dataset, breast_labels, test_size=0.2, random_state=4, stratify=breast_labels)"
   ]
  },
  {
   "cell_type": "code",
   "execution_count": null,
   "metadata": {},
   "outputs": [],
   "source": [
    "#check proportions on 1s\n",
    "y_train.mean(), y_test.mean()"
   ]
  },
  {
   "cell_type": "code",
   "execution_count": null,
   "metadata": {},
   "outputs": [],
   "source": [
    "x_train.mean()"
   ]
  },
  {
   "cell_type": "markdown",
   "metadata": {},
   "source": [
    "# Logistic regression"
   ]
  },
  {
   "cell_type": "code",
   "execution_count": null,
   "metadata": {},
   "outputs": [],
   "source": [
    "#let's ignore multicollinearity in logit model\n",
    "model = LogisticRegression(random_state=100, solver='liblinear')\n",
    "model.fit(x_train, y_train)\n",
    "model.coef_, model.intercept_"
   ]
  },
  {
   "cell_type": "code",
   "execution_count": null,
   "metadata": {},
   "outputs": [],
   "source": [
    "y_pred=model.predict(x_test)\n",
    "cfm = pd.crosstab(y_test, y_pred, rownames=['Actual'], colnames=['Predicted'])\n",
    "cfm = cfm / cfm.sum().sum()\n",
    "cfm"
   ]
  },
  {
   "cell_type": "code",
   "execution_count": null,
   "metadata": {},
   "outputs": [],
   "source": [
    "accuracy = cfm.iloc[0,0] + cfm.iloc[1,1]\n",
    "accuracy"
   ]
  },
  {
   "cell_type": "markdown",
   "metadata": {},
   "source": [
    "# PCA + logistic regression"
   ]
  },
  {
   "cell_type": "code",
   "execution_count": null,
   "metadata": {},
   "outputs": [],
   "source": [
    "y_train.mean(), y_test.mean()"
   ]
  },
  {
   "cell_type": "code",
   "execution_count": null,
   "metadata": {},
   "outputs": [],
   "source": [
    "x_train_ss = StandardScaler().fit_transform(x_train) # normalizing the features in the training set\n",
    "x.shape"
   ]
  },
  {
   "cell_type": "code",
   "execution_count": null,
   "metadata": {},
   "outputs": [],
   "source": [
    "x_test_ss = StandardScaler().fit_transform(x_test) # normalizing the features in the test set\n",
    "x_train.shape, x_test.shape"
   ]
  },
  {
   "cell_type": "code",
   "execution_count": null,
   "metadata": {},
   "outputs": [],
   "source": [
    "pca_breast = PCA(n_components=2)\n",
    "pca_train = pca_breast.fit_transform(x_train_ss)\n",
    "pca_test = pca_breast.fit_transform(x_test_ss)\n",
    "pca_train.shape, pca_test.shape"
   ]
  },
  {
   "cell_type": "code",
   "execution_count": null,
   "metadata": {},
   "outputs": [],
   "source": [
    "model = LogisticRegression(random_state=100, solver='liblinear')\n",
    "model.fit(pca_train, y_train)\n",
    "y_pred=model.predict(pca_test)\n",
    "cfm = pd.crosstab(y_test, y_pred, rownames=['Actual'], colnames=['Predicted'])\n",
    "cfm = cfm / cfm.sum().sum()\n",
    "cfm"
   ]
  },
  {
   "cell_type": "code",
   "execution_count": null,
   "metadata": {},
   "outputs": [],
   "source": [
    "accuracy = cfm.iloc[0,0] + cfm.iloc[1,1]\n",
    "accuracy"
   ]
  },
  {
   "cell_type": "code",
   "execution_count": null,
   "metadata": {},
   "outputs": [],
   "source": []
  }
 ],
 "metadata": {
  "kernelspec": {
   "display_name": "Python 3 (ipykernel)",
   "language": "python",
   "name": "python3"
  },
  "language_info": {
   "codemirror_mode": {
    "name": "ipython",
    "version": 3
   },
   "file_extension": ".py",
   "mimetype": "text/x-python",
   "name": "python",
   "nbconvert_exporter": "python",
   "pygments_lexer": "ipython3",
   "version": "3.8.12"
  }
 },
 "nbformat": 4,
 "nbformat_minor": 4
}
