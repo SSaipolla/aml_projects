{
 "cells": [
  {
   "cell_type": "markdown",
   "metadata": {},
   "source": [
    "<div style=\"font-size: 16pt;\">- Task 1: PCA analysis, number of principal components, biplot analysis</div><br/>\n",
    "<div style=\"font-size: 16pt;\">- Task 2: Compare logistic regression model performance with and without PCA</div><br/>\n",
    "<div style=\"font-size: 16pt;\">- Task 3: Use ROC to choose the best threshold for PCA-logistic regression model</div><br/><br/>\n"
   ]
  },
  {
   "cell_type": "code",
   "execution_count": 67,
   "metadata": {},
   "outputs": [],
   "source": [
    "#load necessary packages\n",
    "from sklearn.decomposition import PCA\n",
    "from sklearn.datasets import load_breast_cancer\n",
    "from sklearn.preprocessing import StandardScaler\n",
    "import numpy as np\n",
    "import pandas as pd\n",
    "import matplotlib.pyplot as plt\n",
    "from sklearn.linear_model import LogisticRegression\n",
    "from sklearn.model_selection import train_test_split\n",
    "import statsmodels.graphics.api as smg\n",
    "from bioinfokit.visuz import cluster\n",
    "import os\n",
    "from sklearn.metrics import roc_curve\n",
    "import seaborn as sns"
   ]
  },
  {
   "cell_type": "code",
   "execution_count": 2,
   "metadata": {},
   "outputs": [
    {
     "data": {
      "text/html": [
       "<div>\n",
       "<style scoped>\n",
       "    .dataframe tbody tr th:only-of-type {\n",
       "        vertical-align: middle;\n",
       "    }\n",
       "\n",
       "    .dataframe tbody tr th {\n",
       "        vertical-align: top;\n",
       "    }\n",
       "\n",
       "    .dataframe thead th {\n",
       "        text-align: right;\n",
       "    }\n",
       "</style>\n",
       "<table border=\"1\" class=\"dataframe\">\n",
       "  <thead>\n",
       "    <tr style=\"text-align: right;\">\n",
       "      <th></th>\n",
       "      <th>loan_status</th>\n",
       "      <th>loan_amnt</th>\n",
       "      <th>int_rate</th>\n",
       "      <th>emp_length</th>\n",
       "      <th>annual_inc</th>\n",
       "      <th>purpose</th>\n",
       "      <th>pub_rec</th>\n",
       "      <th>pub_rec_bankruptcies</th>\n",
       "      <th>home_mor</th>\n",
       "      <th>home_other</th>\n",
       "      <th>home_rent</th>\n",
       "      <th>home_own</th>\n",
       "    </tr>\n",
       "  </thead>\n",
       "  <tbody>\n",
       "    <tr>\n",
       "      <th>0</th>\n",
       "      <td>0</td>\n",
       "      <td>30000</td>\n",
       "      <td>22.35</td>\n",
       "      <td>5.0</td>\n",
       "      <td>100000.0</td>\n",
       "      <td>debt_consolidation</td>\n",
       "      <td>1</td>\n",
       "      <td>1.0</td>\n",
       "      <td>1</td>\n",
       "      <td>0</td>\n",
       "      <td>0</td>\n",
       "      <td>0</td>\n",
       "    </tr>\n",
       "    <tr>\n",
       "      <th>1</th>\n",
       "      <td>0</td>\n",
       "      <td>40000</td>\n",
       "      <td>16.14</td>\n",
       "      <td>0.5</td>\n",
       "      <td>45000.0</td>\n",
       "      <td>credit_card</td>\n",
       "      <td>0</td>\n",
       "      <td>0.0</td>\n",
       "      <td>1</td>\n",
       "      <td>0</td>\n",
       "      <td>0</td>\n",
       "      <td>0</td>\n",
       "    </tr>\n",
       "    <tr>\n",
       "      <th>2</th>\n",
       "      <td>0</td>\n",
       "      <td>20000</td>\n",
       "      <td>7.56</td>\n",
       "      <td>15.0</td>\n",
       "      <td>100000.0</td>\n",
       "      <td>credit_card</td>\n",
       "      <td>0</td>\n",
       "      <td>0.0</td>\n",
       "      <td>1</td>\n",
       "      <td>0</td>\n",
       "      <td>0</td>\n",
       "      <td>0</td>\n",
       "    </tr>\n",
       "    <tr>\n",
       "      <th>3</th>\n",
       "      <td>0</td>\n",
       "      <td>4500</td>\n",
       "      <td>11.31</td>\n",
       "      <td>15.0</td>\n",
       "      <td>38500.0</td>\n",
       "      <td>credit_card</td>\n",
       "      <td>0</td>\n",
       "      <td>0.0</td>\n",
       "      <td>0</td>\n",
       "      <td>0</td>\n",
       "      <td>1</td>\n",
       "      <td>0</td>\n",
       "    </tr>\n",
       "    <tr>\n",
       "      <th>4</th>\n",
       "      <td>0</td>\n",
       "      <td>8425</td>\n",
       "      <td>27.27</td>\n",
       "      <td>3.0</td>\n",
       "      <td>450000.0</td>\n",
       "      <td>credit_card</td>\n",
       "      <td>0</td>\n",
       "      <td>0.0</td>\n",
       "      <td>1</td>\n",
       "      <td>0</td>\n",
       "      <td>0</td>\n",
       "      <td>0</td>\n",
       "    </tr>\n",
       "    <tr>\n",
       "      <th>...</th>\n",
       "      <td>...</td>\n",
       "      <td>...</td>\n",
       "      <td>...</td>\n",
       "      <td>...</td>\n",
       "      <td>...</td>\n",
       "      <td>...</td>\n",
       "      <td>...</td>\n",
       "      <td>...</td>\n",
       "      <td>...</td>\n",
       "      <td>...</td>\n",
       "      <td>...</td>\n",
       "      <td>...</td>\n",
       "    </tr>\n",
       "    <tr>\n",
       "      <th>1340968</th>\n",
       "      <td>1</td>\n",
       "      <td>18000</td>\n",
       "      <td>30.65</td>\n",
       "      <td>15.0</td>\n",
       "      <td>77000.0</td>\n",
       "      <td>debt_consolidation</td>\n",
       "      <td>0</td>\n",
       "      <td>0.0</td>\n",
       "      <td>1</td>\n",
       "      <td>0</td>\n",
       "      <td>0</td>\n",
       "      <td>0</td>\n",
       "    </tr>\n",
       "    <tr>\n",
       "      <th>1340969</th>\n",
       "      <td>0</td>\n",
       "      <td>17950</td>\n",
       "      <td>30.17</td>\n",
       "      <td>15.0</td>\n",
       "      <td>53758.0</td>\n",
       "      <td>debt_consolidation</td>\n",
       "      <td>1</td>\n",
       "      <td>1.0</td>\n",
       "      <td>1</td>\n",
       "      <td>0</td>\n",
       "      <td>0</td>\n",
       "      <td>0</td>\n",
       "    </tr>\n",
       "    <tr>\n",
       "      <th>1340970</th>\n",
       "      <td>0</td>\n",
       "      <td>15000</td>\n",
       "      <td>16.02</td>\n",
       "      <td>0.5</td>\n",
       "      <td>85000.0</td>\n",
       "      <td>debt_consolidation</td>\n",
       "      <td>0</td>\n",
       "      <td>0.0</td>\n",
       "      <td>0</td>\n",
       "      <td>0</td>\n",
       "      <td>1</td>\n",
       "      <td>0</td>\n",
       "    </tr>\n",
       "    <tr>\n",
       "      <th>1340971</th>\n",
       "      <td>1</td>\n",
       "      <td>21000</td>\n",
       "      <td>30.94</td>\n",
       "      <td>0.0</td>\n",
       "      <td>90000.0</td>\n",
       "      <td>medical</td>\n",
       "      <td>0</td>\n",
       "      <td>0.0</td>\n",
       "      <td>1</td>\n",
       "      <td>0</td>\n",
       "      <td>0</td>\n",
       "      <td>0</td>\n",
       "    </tr>\n",
       "    <tr>\n",
       "      <th>1340972</th>\n",
       "      <td>0</td>\n",
       "      <td>12000</td>\n",
       "      <td>25.82</td>\n",
       "      <td>0.5</td>\n",
       "      <td>30000.0</td>\n",
       "      <td>debt_consolidation</td>\n",
       "      <td>0</td>\n",
       "      <td>0.0</td>\n",
       "      <td>1</td>\n",
       "      <td>0</td>\n",
       "      <td>0</td>\n",
       "      <td>0</td>\n",
       "    </tr>\n",
       "  </tbody>\n",
       "</table>\n",
       "<p>1340973 rows × 12 columns</p>\n",
       "</div>"
      ],
      "text/plain": [
       "         loan_status  loan_amnt  int_rate  emp_length  annual_inc  \\\n",
       "0                  0      30000     22.35         5.0    100000.0   \n",
       "1                  0      40000     16.14         0.5     45000.0   \n",
       "2                  0      20000      7.56        15.0    100000.0   \n",
       "3                  0       4500     11.31        15.0     38500.0   \n",
       "4                  0       8425     27.27         3.0    450000.0   \n",
       "...              ...        ...       ...         ...         ...   \n",
       "1340968            1      18000     30.65        15.0     77000.0   \n",
       "1340969            0      17950     30.17        15.0     53758.0   \n",
       "1340970            0      15000     16.02         0.5     85000.0   \n",
       "1340971            1      21000     30.94         0.0     90000.0   \n",
       "1340972            0      12000     25.82         0.5     30000.0   \n",
       "\n",
       "                    purpose  pub_rec  pub_rec_bankruptcies  home_mor  \\\n",
       "0        debt_consolidation        1                   1.0         1   \n",
       "1               credit_card        0                   0.0         1   \n",
       "2               credit_card        0                   0.0         1   \n",
       "3               credit_card        0                   0.0         0   \n",
       "4               credit_card        0                   0.0         1   \n",
       "...                     ...      ...                   ...       ...   \n",
       "1340968  debt_consolidation        0                   0.0         1   \n",
       "1340969  debt_consolidation        1                   1.0         1   \n",
       "1340970  debt_consolidation        0                   0.0         0   \n",
       "1340971             medical        0                   0.0         1   \n",
       "1340972  debt_consolidation        0                   0.0         1   \n",
       "\n",
       "         home_other  home_rent  home_own  \n",
       "0                 0          0         0  \n",
       "1                 0          0         0  \n",
       "2                 0          0         0  \n",
       "3                 0          1         0  \n",
       "4                 0          0         0  \n",
       "...             ...        ...       ...  \n",
       "1340968           0          0         0  \n",
       "1340969           0          0         0  \n",
       "1340970           0          1         0  \n",
       "1340971           0          0         0  \n",
       "1340972           0          0         0  \n",
       "\n",
       "[1340973 rows x 12 columns]"
      ]
     },
     "execution_count": 2,
     "metadata": {},
     "output_type": "execute_result"
    }
   ],
   "source": [
    "#lending club data https://www.lendingclub.com/\n",
    "#check file \"LC_data dictionary\" for data description\n",
    "#only small subset of features used for the class, \n",
    "#full dataset size is more than 1GB \n",
    "df = pd.read_csv(\"data/LendingClub_small.csv\")\n",
    "df"
   ]
  },
  {
   "cell_type": "code",
   "execution_count": 3,
   "metadata": {},
   "outputs": [
    {
     "data": {
      "text/plain": [
       "Index(['loan_status', 'loan_amnt', 'int_rate', 'emp_length', 'annual_inc',\n",
       "       'purpose', 'pub_rec', 'pub_rec_bankruptcies', 'home_mor', 'home_other',\n",
       "       'home_rent', 'home_own'],\n",
       "      dtype='object')"
      ]
     },
     "execution_count": 3,
     "metadata": {},
     "output_type": "execute_result"
    }
   ],
   "source": [
    "df.columns"
   ]
  },
  {
   "cell_type": "code",
   "execution_count": 4,
   "metadata": {},
   "outputs": [
    {
     "data": {
      "text/plain": [
       "Index(['loan_amnt', 'int_rate', 'emp_length', 'annual_inc', 'pub_rec',\n",
       "       'home_mor', 'home_other', 'home_rent', 'home_own'],\n",
       "      dtype='object')"
      ]
     },
     "execution_count": 4,
     "metadata": {},
     "output_type": "execute_result"
    }
   ],
   "source": [
    "#get target (loan status) variable, drop columns not used \n",
    "loan_status = df['loan_status']\n",
    "df.drop(['loan_status', 'purpose', 'pub_rec_bankruptcies'], axis=1, inplace=True)\n",
    "df.columns"
   ]
  },
  {
   "cell_type": "markdown",
   "metadata": {},
   "source": [
    "# Task 1: choose number of principal components, create and interpret biplot - 0.5 points"
   ]
  },
  {
   "cell_type": "code",
   "execution_count": 9,
   "metadata": {},
   "outputs": [],
   "source": [
    "#standardize the features, set results to x\n",
    "x = StandardScaler().fit_transform(df)"
   ]
  },
  {
   "cell_type": "code",
   "execution_count": 10,
   "metadata": {},
   "outputs": [
    {
     "data": {
      "text/plain": [
       "(1.396504519249959e-16, 1.000000000000002)"
      ]
     },
     "execution_count": 10,
     "metadata": {},
     "output_type": "execute_result"
    }
   ],
   "source": [
    "#check if mean is zero and std is 1\n",
    "np.mean(x),np.std(x)"
   ]
  },
  {
   "cell_type": "code",
   "execution_count": 11,
   "metadata": {},
   "outputs": [
    {
     "data": {
      "text/plain": [
       "(1340973, 9)"
      ]
     },
     "execution_count": 11,
     "metadata": {},
     "output_type": "execute_result"
    }
   ],
   "source": [
    "x.shape"
   ]
  },
  {
   "cell_type": "code",
   "execution_count": 12,
   "metadata": {},
   "outputs": [
    {
     "data": {
      "image/png": "[encoded data removed]",
      "text/plain": [
       "<Figure size 432x288 with 1 Axes>"
      ]
     },
     "metadata": {
      "needs_background": "light"
     },
     "output_type": "display_data"
    }
   ],
   "source": [
    "#choose number of principal components using scree plot (elbow plot)\n",
    "n_components = x.shape[1]\n",
    "\n",
    "pca_lc = PCA(n_components=n_components)\n",
    "principalComponents_lc = pca_lc.fit_transform(x)\n",
    "\n",
    "PC_values = np.arange(pca_lc.n_components_) + 1\n",
    "plt.plot(PC_values, pca_lc.explained_variance_ratio_, 'o-', linewidth=2, color='blue')\n",
    "plt.title('Scree Plot')\n",
    "plt.xlabel('Principal Component')\n",
    "plt.ylabel('Variance Explained')\n",
    "plt.show()\n",
    "\n"
   ]
  },
  {
   "cell_type": "code",
   "execution_count": 13,
   "metadata": {},
   "outputs": [
    {
     "data": {
      "image/png": "[encoded data removed]",
      "text/plain": [
       "<Figure size 432x288 with 1 Axes>"
      ]
     },
     "metadata": {
      "needs_background": "light"
     },
     "output_type": "display_data"
    }
   ],
   "source": [
    "cum_pca_ev = np.cumsum(pca_lc.explained_variance_ratio_)\n",
    "plt.plot(PC_values, cum_pca_ev, 'o-', linewidth=2, color='blue')\n",
    "plt.title('Cummulative Scree Plot')\n",
    "plt.xlabel('Principal Component')\n",
    "plt.ylabel('Cummulative Variance Explained')\n",
    "plt.show()"
   ]
  },
  {
   "cell_type": "code",
   "execution_count": 77,
   "metadata": {},
   "outputs": [
    {
     "data": {
      "text/plain": [
       "(2, 9)"
      ]
     },
     "execution_count": 77,
     "metadata": {},
     "output_type": "execute_result"
    }
   ],
   "source": [
    "#generate biplot for the first two principal components \n",
    "labels = df.columns\n",
    "\n",
    "#your code here\n",
    "n_components = 2\n",
    "pca_lc = PCA(n_components=n_components)\n",
    "principalComponents_lc = pca_lc.fit_transform(x)\n",
    "loadings = pca_lc.components_\n",
    "loadings.shape\n"
   ]
  },
  {
   "cell_type": "code",
   "execution_count": 78,
   "metadata": {},
   "outputs": [],
   "source": [
    "# get 2D biplot, it is saved in the current folder (Python)\n",
    "#code below assumes that you used pca_lc = PCA()\n",
    "# and principalComponents_lc = pca_lc.fit_transform(x)\n",
    "cluster.biplot(cscore=principalComponents_lc, loadings=loadings, labels=labels, \\\n",
    "               var1=round(pca_lc.explained_variance_ratio_[0]*100, 2), \\\n",
    "               var2=round(pca_lc.explained_variance_ratio_[1]*100, 2), axlabelfontsize = 10)"
   ]
  },
  {
   "cell_type": "markdown",
   "metadata": {},
   "source": [
    "# Taska 2: compare model performance with and without PCA processing - 0.5 points"
   ]
  },
  {
   "cell_type": "code",
   "execution_count": 79,
   "metadata": {},
   "outputs": [
    {
     "data": {
      "text/html": [
       "<div>\n",
       "<style scoped>\n",
       "    .dataframe tbody tr th:only-of-type {\n",
       "        vertical-align: middle;\n",
       "    }\n",
       "\n",
       "    .dataframe tbody tr th {\n",
       "        vertical-align: top;\n",
       "    }\n",
       "\n",
       "    .dataframe thead th {\n",
       "        text-align: right;\n",
       "    }\n",
       "</style>\n",
       "<table border=\"1\" class=\"dataframe\">\n",
       "  <thead>\n",
       "    <tr style=\"text-align: right;\">\n",
       "      <th></th>\n",
       "      <th>loan_amnt</th>\n",
       "      <th>int_rate</th>\n",
       "      <th>emp_length</th>\n",
       "      <th>annual_inc</th>\n",
       "      <th>pub_rec</th>\n",
       "      <th>home_mor</th>\n",
       "      <th>home_other</th>\n",
       "      <th>home_rent</th>\n",
       "      <th>home_own</th>\n",
       "    </tr>\n",
       "  </thead>\n",
       "  <tbody>\n",
       "    <tr>\n",
       "      <th>0</th>\n",
       "      <td>30000</td>\n",
       "      <td>22.35</td>\n",
       "      <td>5.0</td>\n",
       "      <td>100000.0</td>\n",
       "      <td>1</td>\n",
       "      <td>1</td>\n",
       "      <td>0</td>\n",
       "      <td>0</td>\n",
       "      <td>0</td>\n",
       "    </tr>\n",
       "    <tr>\n",
       "      <th>1</th>\n",
       "      <td>40000</td>\n",
       "      <td>16.14</td>\n",
       "      <td>0.5</td>\n",
       "      <td>45000.0</td>\n",
       "      <td>0</td>\n",
       "      <td>1</td>\n",
       "      <td>0</td>\n",
       "      <td>0</td>\n",
       "      <td>0</td>\n",
       "    </tr>\n",
       "    <tr>\n",
       "      <th>2</th>\n",
       "      <td>20000</td>\n",
       "      <td>7.56</td>\n",
       "      <td>15.0</td>\n",
       "      <td>100000.0</td>\n",
       "      <td>0</td>\n",
       "      <td>1</td>\n",
       "      <td>0</td>\n",
       "      <td>0</td>\n",
       "      <td>0</td>\n",
       "    </tr>\n",
       "    <tr>\n",
       "      <th>3</th>\n",
       "      <td>4500</td>\n",
       "      <td>11.31</td>\n",
       "      <td>15.0</td>\n",
       "      <td>38500.0</td>\n",
       "      <td>0</td>\n",
       "      <td>0</td>\n",
       "      <td>0</td>\n",
       "      <td>1</td>\n",
       "      <td>0</td>\n",
       "    </tr>\n",
       "    <tr>\n",
       "      <th>4</th>\n",
       "      <td>8425</td>\n",
       "      <td>27.27</td>\n",
       "      <td>3.0</td>\n",
       "      <td>450000.0</td>\n",
       "      <td>0</td>\n",
       "      <td>1</td>\n",
       "      <td>0</td>\n",
       "      <td>0</td>\n",
       "      <td>0</td>\n",
       "    </tr>\n",
       "  </tbody>\n",
       "</table>\n",
       "</div>"
      ],
      "text/plain": [
       "   loan_amnt  int_rate  emp_length  annual_inc  pub_rec  home_mor  home_other  \\\n",
       "0      30000     22.35         5.0    100000.0        1         1           0   \n",
       "1      40000     16.14         0.5     45000.0        0         1           0   \n",
       "2      20000      7.56        15.0    100000.0        0         1           0   \n",
       "3       4500     11.31        15.0     38500.0        0         0           0   \n",
       "4       8425     27.27         3.0    450000.0        0         1           0   \n",
       "\n",
       "   home_rent  home_own  \n",
       "0          0         0  \n",
       "1          0         0  \n",
       "2          0         0  \n",
       "3          1         0  \n",
       "4          0         0  "
      ]
     },
     "execution_count": 79,
     "metadata": {},
     "output_type": "execute_result"
    }
   ],
   "source": [
    "#features dataframe\n",
    "df.head()"
   ]
  },
  {
   "cell_type": "code",
   "execution_count": 80,
   "metadata": {},
   "outputs": [
    {
     "data": {
      "text/plain": [
       "0          0\n",
       "1          0\n",
       "2          0\n",
       "3          0\n",
       "4          0\n",
       "          ..\n",
       "1340968    1\n",
       "1340969    0\n",
       "1340970    0\n",
       "1340971    1\n",
       "1340972    0\n",
       "Name: loan_status, Length: 1340973, dtype: int64"
      ]
     },
     "execution_count": 80,
     "metadata": {},
     "output_type": "execute_result"
    }
   ],
   "source": [
    "#target variable, labels: 0 - good loans, 1 - bad loans\n",
    "loan_status"
   ]
  },
  {
   "cell_type": "code",
   "execution_count": 81,
   "metadata": {},
   "outputs": [],
   "source": [
    "#create train-test sets, test size = 0.2, random_state = 4, stratify = loan_status\n",
    "x_train, x_test, y_train, y_test = train_test_split(\n",
    "    df, loan_status, test_size=0.2, random_state=4, stratify=loan_status)"
   ]
  },
  {
   "cell_type": "code",
   "execution_count": 82,
   "metadata": {},
   "outputs": [
    {
     "data": {
      "text/plain": [
       "(0.22150528813976425, 0.22150673949924496)"
      ]
     },
     "execution_count": 82,
     "metadata": {},
     "output_type": "execute_result"
    }
   ],
   "source": [
    "#check proportions on 1s\n",
    "y_train.mean(), y_test.mean()"
   ]
  },
  {
   "cell_type": "code",
   "execution_count": 83,
   "metadata": {},
   "outputs": [
    {
     "data": {
      "text/plain": [
       "loan_amnt     14468.122529\n",
       "int_rate         13.316638\n",
       "emp_length        7.287353\n",
       "annual_inc    76192.678433\n",
       "pub_rec           0.215903\n",
       "home_mor          0.493453\n",
       "home_other        0.000393\n",
       "home_rent         0.398451\n",
       "home_own          0.107704\n",
       "dtype: float64"
      ]
     },
     "execution_count": 83,
     "metadata": {},
     "output_type": "execute_result"
    }
   ],
   "source": [
    "x_train.mean()"
   ]
  },
  {
   "cell_type": "markdown",
   "metadata": {},
   "source": [
    "# Logistic regression"
   ]
  },
  {
   "cell_type": "code",
   "execution_count": 84,
   "metadata": {},
   "outputs": [],
   "source": [
    "#Your logistic regression code here\n",
    "model = LogisticRegression(random_state=100, solver='liblinear')\n",
    "model.fit(x_train, y_train)\n",
    "y_pred=model.predict(x_test)"
   ]
  },
  {
   "cell_type": "code",
   "execution_count": 85,
   "metadata": {},
   "outputs": [
    {
     "data": {
      "text/html": [
       "<div>\n",
       "<style scoped>\n",
       "    .dataframe tbody tr th:only-of-type {\n",
       "        vertical-align: middle;\n",
       "    }\n",
       "\n",
       "    .dataframe tbody tr th {\n",
       "        vertical-align: top;\n",
       "    }\n",
       "\n",
       "    .dataframe thead th {\n",
       "        text-align: right;\n",
       "    }\n",
       "</style>\n",
       "<table border=\"1\" class=\"dataframe\">\n",
       "  <thead>\n",
       "    <tr style=\"text-align: right;\">\n",
       "      <th>Predicted</th>\n",
       "      <th>0</th>\n",
       "      <th>1</th>\n",
       "    </tr>\n",
       "    <tr>\n",
       "      <th>Actual</th>\n",
       "      <th></th>\n",
       "      <th></th>\n",
       "    </tr>\n",
       "  </thead>\n",
       "  <tbody>\n",
       "    <tr>\n",
       "      <th>0</th>\n",
       "      <td>0.778046</td>\n",
       "      <td>0.000447</td>\n",
       "    </tr>\n",
       "    <tr>\n",
       "      <th>1</th>\n",
       "      <td>0.221350</td>\n",
       "      <td>0.000157</td>\n",
       "    </tr>\n",
       "  </tbody>\n",
       "</table>\n",
       "</div>"
      ],
      "text/plain": [
       "Predicted         0         1\n",
       "Actual                       \n",
       "0          0.778046  0.000447\n",
       "1          0.221350  0.000157"
      ]
     },
     "execution_count": 85,
     "metadata": {},
     "output_type": "execute_result"
    }
   ],
   "source": [
    "#calculate confusion matrix, comment on most common bad predictions\n",
    "\n",
    "cfm = pd.crosstab(y_test, y_pred, rownames=['Actual'], colnames=['Predicted'])\n",
    "cfm = cfm / cfm.sum().sum()\n",
    "cfm"
   ]
  },
  {
   "cell_type": "code",
   "execution_count": 86,
   "metadata": {},
   "outputs": [
    {
     "data": {
      "text/plain": [
       "0.7782024273383173"
      ]
     },
     "execution_count": 86,
     "metadata": {},
     "output_type": "execute_result"
    }
   ],
   "source": [
    "#calculate accuracy\n",
    "accuracy = cfm.iloc[0,0] + cfm.iloc[1,1]\n",
    "accuracy"
   ]
  },
  {
   "cell_type": "markdown",
   "metadata": {},
   "source": [
    "# PCA + logistic regression"
   ]
  },
  {
   "cell_type": "code",
   "execution_count": 87,
   "metadata": {},
   "outputs": [
    {
     "data": {
      "text/plain": [
       "(0.22150528813976425, 0.22150673949924496)"
      ]
     },
     "execution_count": 87,
     "metadata": {},
     "output_type": "execute_result"
    }
   ],
   "source": [
    "y_train.mean(), y_test.mean()"
   ]
  },
  {
   "cell_type": "code",
   "execution_count": 88,
   "metadata": {},
   "outputs": [
    {
     "data": {
      "text/plain": [
       "((1072778, 9), (268195, 9))"
      ]
     },
     "execution_count": 88,
     "metadata": {},
     "output_type": "execute_result"
    }
   ],
   "source": [
    "#standardize train and test sets\n",
    "\n",
    "x_train_ss = StandardScaler().fit_transform(x_train)\n",
    "x_test_ss = StandardScaler().fit_transform(x_test)\n",
    "x_train_ss.shape, x_test_ss.shape"
   ]
  },
  {
   "cell_type": "code",
   "execution_count": 89,
   "metadata": {},
   "outputs": [
    {
     "data": {
      "text/plain": [
       "((1072778, 2), (268195, 2))"
      ]
     },
     "execution_count": 89,
     "metadata": {},
     "output_type": "execute_result"
    }
   ],
   "source": [
    "#run PCA for two different values for the number of principal components\n",
    "\n",
    "pca_lc = PCA(n_components=2)\n",
    "pca_train = pca_lc.fit_transform(x_train_ss)\n",
    "pca_test = pca_lc.fit_transform(x_test_ss)\n",
    "pca_train.shape, pca_test.shape"
   ]
  },
  {
   "cell_type": "code",
   "execution_count": 90,
   "metadata": {},
   "outputs": [
    {
     "data": {
      "text/html": [
       "<div>\n",
       "<style scoped>\n",
       "    .dataframe tbody tr th:only-of-type {\n",
       "        vertical-align: middle;\n",
       "    }\n",
       "\n",
       "    .dataframe tbody tr th {\n",
       "        vertical-align: top;\n",
       "    }\n",
       "\n",
       "    .dataframe thead th {\n",
       "        text-align: right;\n",
       "    }\n",
       "</style>\n",
       "<table border=\"1\" class=\"dataframe\">\n",
       "  <thead>\n",
       "    <tr style=\"text-align: right;\">\n",
       "      <th>Predicted</th>\n",
       "      <th>0</th>\n",
       "      <th>1</th>\n",
       "    </tr>\n",
       "    <tr>\n",
       "      <th>Actual</th>\n",
       "      <th></th>\n",
       "      <th></th>\n",
       "    </tr>\n",
       "  </thead>\n",
       "  <tbody>\n",
       "    <tr>\n",
       "      <th>0</th>\n",
       "      <td>0.778031</td>\n",
       "      <td>0.000462</td>\n",
       "    </tr>\n",
       "    <tr>\n",
       "      <th>1</th>\n",
       "      <td>0.221350</td>\n",
       "      <td>0.000157</td>\n",
       "    </tr>\n",
       "  </tbody>\n",
       "</table>\n",
       "</div>"
      ],
      "text/plain": [
       "Predicted         0         1\n",
       "Actual                       \n",
       "0          0.778031  0.000462\n",
       "1          0.221350  0.000157"
      ]
     },
     "execution_count": 90,
     "metadata": {},
     "output_type": "execute_result"
    }
   ],
   "source": [
    "#run logisitic regression calculate confusion matrix\n",
    "\n",
    "model = LogisticRegression(random_state=100, solver='liblinear')\n",
    "model.fit(pca_train, y_train)\n",
    "y_pred=model.predict(pca_test)\n",
    "cfm = pd.crosstab(y_test, y_pred, rownames=['Actual'], colnames=['Predicted'])\n",
    "cfm = cfm / cfm.sum().sum()\n",
    "cfm"
   ]
  },
  {
   "cell_type": "code",
   "execution_count": 91,
   "metadata": {},
   "outputs": [
    {
     "data": {
      "text/plain": [
       "0.7781875128171667"
      ]
     },
     "execution_count": 91,
     "metadata": {},
     "output_type": "execute_result"
    }
   ],
   "source": [
    "#calculate accuracy\n",
    "\n",
    "accuracy = cfm.iloc[0,0] + cfm.iloc[1,1]\n",
    "accuracy"
   ]
  },
  {
   "cell_type": "markdown",
   "metadata": {},
   "source": [
    "# Task 3: choose threshold for PCA + logistic regression model using ROC - 0.5 points"
   ]
  },
  {
   "cell_type": "code",
   "execution_count": 92,
   "metadata": {},
   "outputs": [
    {
     "data": {
      "image/png": "[encoded data removed]",
      "text/plain": [
       "<Figure size 1440x1440 with 1 Axes>"
      ]
     },
     "metadata": {
      "needs_background": "light"
     },
     "output_type": "display_data"
    }
   ],
   "source": [
    "y_prob = model.predict_proba(pca_test)\n",
    "y_prob = y_prob[:,1]\n",
    "\n",
    "fpr, tpr, thresholds = roc_curve(y_test, y_prob)\n",
    "str_thresholds = [str(round(x,2)) for x in thresholds]\n",
    "\n",
    "sel = list(range(len(str_thresholds))[::10000])\n",
    "for ind in sel:\n",
    "    str_thresholds[ind] = '.'\n",
    "\n",
    "plt.rcParams[\"figure.figsize\"] = (20, 20)\n",
    "plt.plot(fpr, tpr, marker='.', label='Logistic')\n",
    "plt.xlabel('False Positive Rate')\n",
    "plt.ylabel('True Positive Rate')\n",
    "plt.legend()\n",
    "\n",
    "counter = 0\n",
    "for i in range(len(thresholds)): \n",
    "    if counter % 7000 == 0:\n",
    "        plt.text(fpr[i], tpr[i], str_thresholds[i], fontsize=20)\n",
    "    \n",
    "    counter += 1\n",
    "\n",
    "plt.show()"
   ]
  },
  {
   "cell_type": "code",
   "execution_count": 93,
   "metadata": {},
   "outputs": [],
   "source": [
    "def calculate_confusion_matrix(y_test, y_prob, threshold):\n",
    "    y_pred_t = 1*(y_prob >= threshold)\n",
    "    cfm = pd.crosstab(y_test, y_pred_t, rownames=['Actual'], colnames=['Predicted'])\n",
    "    cfm = cfm / cfm.sum().sum()\n",
    "    sns.heatmap(cfm, annot=True)\n",
    "    accuracy = cfm.iloc[0,0] + cfm.iloc[1,1]\n",
    "    print(\"`Accuracy =  {:6.4f}\".format(accuracy))\n",
    "    return cfm, accuracy\n"
   ]
  },
  {
   "cell_type": "code",
   "execution_count": 94,
   "metadata": {},
   "outputs": [
    {
     "name": "stdout",
     "output_type": "stream",
     "text": [
      "`Accuracy =  0.5407\n"
     ]
    },
    {
     "data": {
      "image/png": "[encoded data removed]",
      "text/plain": [
       "<Figure size 576x576 with 2 Axes>"
      ]
     },
     "metadata": {
      "needs_background": "light"
     },
     "output_type": "display_data"
    }
   ],
   "source": [
    "plt.rcParams[\"figure.figsize\"] = (8, 8)\n",
    "cfm , accuracy = calculate_confusion_matrix(y_test, y_prob, 0.215)"
   ]
  }
 ],
 "metadata": {
  "kernelspec": {
   "display_name": "Python 3 (ipykernel)",
   "language": "python",
   "name": "python3"
  },
  "language_info": {
   "codemirror_mode": {
    "name": "ipython",
    "version": 3
   },
   "file_extension": ".py",
   "mimetype": "text/x-python",
   "name": "python",
   "nbconvert_exporter": "python",
   "pygments_lexer": "ipython3",
   "version": "3.8.12"
  }
 },
 "nbformat": 4,
 "nbformat_minor": 4
}
